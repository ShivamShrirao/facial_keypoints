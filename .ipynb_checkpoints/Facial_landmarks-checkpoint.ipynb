{
 "cells": [
  {
   "cell_type": "code",
   "execution_count": 1,
   "metadata": {},
   "outputs": [],
   "source": [
    "import timeit\n",
    "import matplotlib.pyplot as plt\n",
    "import pickle\n",
    "from time import time\n",
    "import numpy as np"
   ]
  },
  {
   "cell_type": "code",
   "execution_count": 2,
   "metadata": {},
   "outputs": [],
   "source": [
    "import sys\n",
    "sys.path.append(\"../dnn_from_scratch\")"
   ]
  },
  {
   "cell_type": "code",
   "execution_count": 3,
   "metadata": {},
   "outputs": [],
   "source": [
    "from matplotlib.image import imread\n",
    "import cv2"
   ]
  },
  {
   "cell_type": "code",
   "execution_count": 4,
   "metadata": {},
   "outputs": [],
   "source": [
    "def get_batch(st,btsz):\n",
    "    X_train=[]\n",
    "    for ii in names[st:st+btsz]:\n",
    "        img=imread(DATA_DIR+\"/\"+ii)\n",
    "        img=cv2.resize(img, dsize=(64,64))#, interpolation=cv2.INTER_CUBIC)\n",
    "        X_train.append(img/255*2-1)\n",
    "    return np.asarray(X_train)"
   ]
  },
  {
   "cell_type": "code",
   "execution_count": 5,
   "metadata": {},
   "outputs": [
    {
     "name": "stdout",
     "output_type": "stream",
     "text": [
      "Seed: 403\n",
      "Seed: 178\n"
     ]
    }
   ],
   "source": [
    "from nnet.network import Sequential,layers\n",
    "from nnet.layers import conv2d,max_pool,flatten,dense,dropout,conv2d,BatchNormalization,Activation\n",
    "from nnet import functions\n",
    "from nnet import optimizers\n",
    "import numpy as np"
   ]
  },
  {
   "cell_type": "code",
   "execution_count": 6,
   "metadata": {},
   "outputs": [],
   "source": [
    "from preprocess import FacialDataset"
   ]
  },
  {
   "cell_type": "code",
   "execution_count": 7,
   "metadata": {},
   "outputs": [],
   "source": [
    "fd=FacialDataset(\"dataset/test_frames_keypoints.csv\")\n",
    "fd.load_images('dataset/test/')\n",
    "fd.resize((64,64))\n",
    "fd.normalize()"
   ]
  },
  {
   "cell_type": "code",
   "execution_count": 8,
   "metadata": {
    "scrolled": false
   },
   "outputs": [],
   "source": [
    "# plt.imshow(rsimg,cmap='gray')\n",
    "# plt.scatter(key_pts[:,0]*ry,key_pts[:,1]*rx, marker='.')\n",
    "# plt.show()"
   ]
  },
  {
   "cell_type": "code",
   "execution_count": 10,
   "metadata": {},
   "outputs": [
    {
     "name": "stdout",
     "output_type": "stream",
     "text": [
      "⎽⎽⎽⎽⎽⎽⎽⎽⎽⎽⎽⎽⎽⎽⎽⎽⎽⎽⎽⎽⎽⎽⎽⎽⎽⎽⎽⎽⎽⎽⎽⎽⎽⎽⎽⎽⎽⎽⎽⎽⎽⎽⎽⎽⎽⎽⎽⎽⎽⎽⎽⎽⎽⎽⎽⎽⎽⎽⎽⎽⎽⎽⎽⎽⎽⎽⎽⎽⎽⎽⎽⎽⎽⎽⎽⎽⎽⎽⎽⎽⎽⎽⎽⎽⎽⎽⎽⎽⎽⎽\n",
      "Layer (type)               Output Shape             Activation        Param #\n",
      "==========================================================================================\n",
      "0 input_layer(InputLayer) (None, 64, 64, 1)          echo             0\n",
      "__________________________________________________________________________________________\n",
      "1 conv2d(conv2d)          (None, 64, 64, 32)         leakyRelu        320\n",
      "__________________________________________________________________________________________\n",
      "2 BatchNormalization(Batc (None, 64, 64, 32)         echo             128\n",
      "__________________________________________________________________________________________\n",
      "3 max_pool(max_pool)      (None, 32, 32, 32)         echo             0\n",
      "__________________________________________________________________________________________\n",
      "4 dropout(dropout)        (None, 32, 32, 32)         echo             0\n",
      "__________________________________________________________________________________________\n",
      "5 conv2d(conv2d)          (None, 32, 32, 64)         leakyRelu        18496\n",
      "__________________________________________________________________________________________\n",
      "6 BatchNormalization(Batc (None, 32, 32, 64)         echo             256\n",
      "__________________________________________________________________________________________\n",
      "7 max_pool(max_pool)      (None, 16, 16, 64)         echo             0\n",
      "__________________________________________________________________________________________\n",
      "8 dropout(dropout)        (None, 16, 16, 64)         echo             0\n",
      "__________________________________________________________________________________________\n",
      "9 conv2d(conv2d)          (None, 16, 16, 128)        leakyRelu        73856\n",
      "__________________________________________________________________________________________\n",
      "10 BatchNormalization(Bat (None, 16, 16, 128)        echo             512\n",
      "__________________________________________________________________________________________\n",
      "11 max_pool(max_pool)     (None, 8, 8, 128)          echo             0\n",
      "__________________________________________________________________________________________\n",
      "12 dropout(dropout)       (None, 8, 8, 128)          echo             0\n",
      "__________________________________________________________________________________________\n",
      "13 flatten(flatten)       (None, 8192)               echo             0\n",
      "__________________________________________________________________________________________\n",
      "14 dense(dense)           (None, 256)                leakyRelu        2097408\n",
      "__________________________________________________________________________________________\n",
      "15 dropout(dropout)       (None, 256)                echo             0\n",
      "__________________________________________________________________________________________\n",
      "16 dense(dense)           (None, 136)                sigmoid          34952\n",
      "==========================================================================================\n",
      "Total Params: 2,225,928\n",
      "Trainable Params: 2,225,480\n",
      "Non-trainable Params: 448\n"
     ]
    }
   ],
   "source": [
    "model=Sequential()\n",
    "model.add(conv2d(32,kernel_size=3,activation=functions.leakyRelu,input_shape=(64,64,1)))\n",
    "model.add(BatchNormalization())\n",
    "model.add(max_pool())\n",
    "model.add(dropout(0.1))\n",
    "model.add(conv2d(64,kernel_size=3,activation=functions.leakyRelu))\n",
    "model.add(BatchNormalization())\n",
    "model.add(max_pool())\n",
    "model.add(dropout(0.2))\n",
    "model.add(conv2d(128,kernel_size=3,activation=functions.leakyRelu))\n",
    "model.add(BatchNormalization())\n",
    "model.add(max_pool())\n",
    "model.add(dropout(0.25))\n",
    "model.add(flatten())\n",
    "model.add(dense(256,activation=functions.leakyRelu))\n",
    "model.add(dropout(0.2))\n",
    "model.add(dense(68*2,activation=functions.sigmoid))\n",
    "\n",
    "model.summary()"
   ]
  },
  {
   "cell_type": "code",
   "execution_count": 11,
   "metadata": {},
   "outputs": [],
   "source": [
    "model.compile(optimizer=optimizers.adam,loss=functions.cross_entropy_with_logits,learning_rate=0.001)"
   ]
  },
  {
   "cell_type": "code",
   "execution_count": null,
   "metadata": {},
   "outputs": [],
   "source": [
    "ccu=0"
   ]
  },
  {
   "cell_type": "code",
   "execution_count": null,
   "metadata": {},
   "outputs": [],
   "source": [
    "def run():\n",
    "    btsz=64\n",
    "    for idx in range(0,len(fd.rsimg),btsz):\n",
    "        X_inp=fd.rsimg[idx:idx+btsz]\n",
    "        "
   ]
  },
  {
   "cell_type": "code",
   "execution_count": null,
   "metadata": {
    "scrolled": true
   },
   "outputs": [],
   "source": [
    "epochs=5\n",
    "for epoch in range(epochs):\n",
    "    print(\"EPOCH:\",epoch+1,'/',epochs)\n",
    "    st_tm=time()\n",
    "    run()\n",
    "    print(\"\\nEpoch time: {}:{}s\".format(int(time()-st_tm)//60,int(time()-st_tm)%60))"
   ]
  }
 ],
 "metadata": {
  "kernelspec": {
   "display_name": "Python 3",
   "language": "python",
   "name": "python3"
  },
  "language_info": {
   "codemirror_mode": {
    "name": "ipython",
    "version": 3
   },
   "file_extension": ".py",
   "mimetype": "text/x-python",
   "name": "python",
   "nbconvert_exporter": "python",
   "pygments_lexer": "ipython3",
   "version": "3.7.4"
  }
 },
 "nbformat": 4,
 "nbformat_minor": 2
}
